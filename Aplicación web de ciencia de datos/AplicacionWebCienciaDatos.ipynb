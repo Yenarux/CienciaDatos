{
  "nbformat": 4,
  "nbformat_minor": 0,
  "metadata": {
    "colab": {
      "provenance": []
    },
    "kernelspec": {
      "name": "python3",
      "display_name": "Python 3"
    },
    "language_info": {
      "name": "python"
    }
  },
  "cells": [
    {
      "cell_type": "markdown",
      "source": [
        "Instalando Streamlit:"
      ],
      "metadata": {
        "id": "XdB654LB50DS"
      }
    },
    {
      "cell_type": "code",
      "execution_count": 14,
      "metadata": {
        "id": "PuMLHjF34rIv"
      },
      "outputs": [],
      "source": [
        "!pip install -q streamlit"
      ]
    },
    {
      "cell_type": "markdown",
      "source": [
        "----------------"
      ],
      "metadata": {
        "id": "qFbkSAtj70Hw"
      }
    },
    {
      "cell_type": "markdown",
      "source": [
        "Agregando el título, logo y descripción:"
      ],
      "metadata": {
        "id": "0crcDgiB53fH"
      }
    },
    {
      "cell_type": "code",
      "source": [
        "import streamlit as st\n",
        "import pandas as pd\n",
        "import numpy as np\n",
        "from PIL import Image\n",
        "import altair as alt\n",
        "\n",
        "# Titulo, logo y descripcion\n",
        "col1, mid, col2 = st.columns([4,2,20])\n",
        "with col1:\n",
        "    engranes = Image.open('ajuste.png')\n",
        "    logo = engranes.resize((100, 100))\n",
        "    st.image(logo)\n",
        "with col2:\n",
        "    st.header('EMPLEADOS')\n",
        "\n",
        "st.subheader('Esta aplicación web está dedicada para mostrar en análisis de desempeño de empleados y KPIs correspondientes de _Socialize your Knowledge_.')\n"
      ],
      "metadata": {
        "colab": {
          "base_uri": "https://localhost:8080/"
        },
        "id": "9xKh9JSc6Dg7",
        "outputId": "fab5b7a5-cec7-4b20-9265-b40795fb56dd"
      },
      "execution_count": 16,
      "outputs": [
        {
          "output_type": "execute_result",
          "data": {
            "text/plain": [
              "DeltaGenerator(_root_container=0, _provided_cursor=None, _parent=None, _block_type=None, _form_data=None)"
            ]
          },
          "metadata": {},
          "execution_count": 16
        }
      ]
    },
    {
      "cell_type": "markdown",
      "source": [
        "--------------------"
      ],
      "metadata": {
        "id": "B-KwybA273pg"
      }
    },
    {
      "cell_type": "markdown",
      "source": [
        "Creando el radioButton del género y la gráfica correspondiente a las horas de trabajo según la selección:"
      ],
      "metadata": {
        "id": "OuiGL0k06TuI"
      }
    },
    {
      "cell_type": "code",
      "source": [
        "# Cargar datos\n",
        "empleados = pd.read_csv(\"Empleados.csv\")\n",
        "empleados['gender'] = empleados['gender'].replace('M ','Masculino')\n",
        "empleados['gender'] = empleados['gender'].replace('F','Femenino')\n",
        "\n",
        "# Radio de genero\n",
        "generoAux = empleados['gender'].unique()\n",
        "generoAux = np.append(generoAux, \"Ambos\")\n",
        "\n",
        "confGenero = st.expander(\"Grafica de promedio de horas de trabajo\", True)\n",
        "genero = confGenero.radio(\"Seleccione el género\", generoAux)\n",
        "\n",
        "# Grafica de barras sobre el promedio\n",
        "if genero == 'Ambos':\n",
        "    graphPromedio = alt.Chart(empleados).mark_bar(size=40).encode(\n",
        "        x = 'gender:N',\n",
        "        y = alt.Y('average_work_hours:Q', aggregate='average', \n",
        "            scale=alt.Scale(domain=(4300, 4420)),\n",
        "            axis=alt.Axis(values=list(range(4300, 4420, 10)))\n",
        "        )\n",
        "    )\n",
        "    st.altair_chart(graphPromedio, use_container_width=True)\n",
        "\n",
        "# Caso femenino(0)\n",
        "elif genero == 'Femenino':\n",
        "    auxF = empleados[empleados['gender'] == 'Femenino']\n",
        "\n",
        "    graphPromedio = alt.Chart(auxF).mark_bar(size=40).encode(\n",
        "        x = 'gender:N',\n",
        "        y = alt.Y('average_work_hours:Q', aggregate='average', \n",
        "            scale=alt.Scale(domain=(4300, 4420)),\n",
        "            axis=alt.Axis(values=list(range(4300, 4420, 10)))\n",
        "        )\n",
        "    )\n",
        "    st.altair_chart(graphPromedio, use_container_width=True)\n",
        "\n",
        "    \n",
        "\n",
        "# Caso masculino(1)\n",
        "elif genero == 'Masculino':\n",
        "    auxM = empleados[empleados['gender'] == 'Masculino']\n",
        "\n",
        "    graphPromedio = alt.Chart(auxM).mark_bar(size=40).encode(\n",
        "        x = 'gender:N',\n",
        "        y = alt.Y('average_work_hours:Q', aggregate='average', \n",
        "            scale=alt.Scale(domain=(4300, 4420)),\n",
        "            axis=alt.Axis(values=list(range(4300, 4420, 10)))\n",
        "        )\n",
        "    )\n",
        "    st.altair_chart(graphPromedio, use_container_width=True)"
      ],
      "metadata": {
        "id": "ApMd2pXC6obf"
      },
      "execution_count": 17,
      "outputs": []
    },
    {
      "cell_type": "markdown",
      "source": [
        "--------------"
      ],
      "metadata": {
        "id": "ok3IOTgb8DE3"
      }
    },
    {
      "cell_type": "markdown",
      "source": [
        "Creando el slider del puntaje de desempeño y la gráfica correspondiente a la distribución de los puntajes seleccionados:"
      ],
      "metadata": {
        "id": "fT7jbWLm8D_3"
      }
    },
    {
      "cell_type": "code",
      "source": [
        "# Slider de puntaje de desempeño\n",
        "empleados['performance_score'] = pd.to_numeric(empleados['performance_score'])\n",
        "\n",
        "confSlider = st.expander(\"Grafica de distribución de puntaje de desempeño\", True)\n",
        "puntaje = confSlider.slider(\n",
        "    \"Seleccione un rango de puntaje\",\n",
        "        value = [float(empleados['performance_score'].min()), float(empleados['performance_score'].max())],\n",
        "        min_value = float(empleados['performance_score'].min()),\n",
        "        max_value = float(empleados['performance_score'].max())\n",
        ")\n",
        "puntajeSelect = empleados[empleados['performance_score'].between(puntaje[0], puntaje[1])] #0 es min, 1 es max}\n",
        "\n",
        "# Grafica de distribucion del puntaje de desempeño\n",
        "graphPuntaje = alt.Chart(puntajeSelect).transform_density(\n",
        "    'performance_score',\n",
        "    as_=['performance_score', 'density'],\n",
        ").mark_area().encode(\n",
        "    x=\"performance_score:Q\",\n",
        "    y='density:Q',\n",
        ")\n",
        "st.altair_chart(graphPuntaje, use_container_width=True)"
      ],
      "metadata": {
        "colab": {
          "base_uri": "https://localhost:8080/"
        },
        "id": "WNPC_ZT68YfV",
        "outputId": "2faa3875-cd0e-41d4-9ff6-9a41db9f87d8"
      },
      "execution_count": 18,
      "outputs": [
        {
          "output_type": "execute_result",
          "data": {
            "text/plain": [
              "DeltaGenerator(_root_container=0, _provided_cursor=None, _parent=None, _block_type=None, _form_data=None)"
            ]
          },
          "metadata": {},
          "execution_count": 18
        }
      ]
    },
    {
      "cell_type": "markdown",
      "source": [
        "--------------"
      ],
      "metadata": {
        "id": "1QzFPvLB8-4Q"
      }
    },
    {
      "cell_type": "markdown",
      "source": [
        "Creando el selectBox del estado civil; este elemento no cuenta con su propia gráfica:"
      ],
      "metadata": {
        "id": "Z2jqecT78_27"
      }
    },
    {
      "cell_type": "code",
      "source": [
        "# Select de estado civil\n",
        "confCivil = st.expander(\"Selector de estado civil\", True)\n",
        "civil = confCivil.selectbox(\"Seleccione un estado civil\", empleados['marital_status'].unique())\n",
        "st.write('###################################################################################')"
      ],
      "metadata": {
        "id": "UiK6YvU88_iO"
      },
      "execution_count": 19,
      "outputs": []
    },
    {
      "cell_type": "markdown",
      "source": [
        "-------------"
      ],
      "metadata": {
        "id": "FDaXhAty9UWy"
      }
    },
    {
      "cell_type": "markdown",
      "source": [
        "Creando la gráfica correspondiente a la edad de los empleados y su salario correspondiente:"
      ],
      "metadata": {
        "id": "9czlLS-g9VET"
      }
    },
    {
      "cell_type": "code",
      "source": [
        "# Grafica de edad / salario\n",
        "st.write(\"Gráfica sobre edad de los empleados y sus salarios\")\n",
        "\n",
        "graphEdad = alt.Chart(empleados).mark_point().encode(\n",
        "    x = alt.X('salary', scale=alt.Scale(domain=(30000, 260000))),\n",
        "    y = alt.Y('age', scale=alt.Scale(domain=(20, 75)))\n",
        ")\n",
        "st.altair_chart(graphEdad, use_container_width=True)"
      ],
      "metadata": {
        "colab": {
          "base_uri": "https://localhost:8080/"
        },
        "id": "3sPyLsWu9VLq",
        "outputId": "47743175-125f-4648-f22a-5e10a182aad8"
      },
      "execution_count": 20,
      "outputs": [
        {
          "output_type": "execute_result",
          "data": {
            "text/plain": [
              "DeltaGenerator(_root_container=0, _provided_cursor=None, _parent=None, _block_type=None, _form_data=None)"
            ]
          },
          "metadata": {},
          "execution_count": 20
        }
      ]
    },
    {
      "cell_type": "markdown",
      "source": [
        "-------------"
      ],
      "metadata": {
        "id": "amPdrHBX9pSh"
      }
    },
    {
      "cell_type": "markdown",
      "source": [
        "Creando la gráfica correspondiente a las horas de trabajo y el puntaje de desempeño:"
      ],
      "metadata": {
        "id": "TMqN5WQc9pxA"
      }
    },
    {
      "cell_type": "code",
      "source": [
        "# Grafica de horas / puntaje\n",
        "st.write(\"Gráfica sobre las horas trabajadas de los empleados y su puntuación de desempeño\")\n",
        "\n",
        "graphHoras = alt.Chart(empleados).mark_tick().encode(\n",
        "    x = alt.X('average_work_hours', \n",
        "        scale=alt.Scale(domain=(3900, 5200))\n",
        "    ),\n",
        "    y = alt.Y('performance_score', \n",
        "        scale=alt.Scale(domain=(0, 5)), \n",
        "        axis=alt.Axis(values=list(range(0, 6)))\n",
        "    )\n",
        ")\n",
        "st.altair_chart(graphHoras, use_container_width=True)"
      ],
      "metadata": {
        "colab": {
          "base_uri": "https://localhost:8080/"
        },
        "id": "B-ra5-pf9p4d",
        "outputId": "e488217e-7879-4467-eb45-52bf79a699af"
      },
      "execution_count": 21,
      "outputs": [
        {
          "output_type": "execute_result",
          "data": {
            "text/plain": [
              "DeltaGenerator(_root_container=0, _provided_cursor=None, _parent=None, _block_type=None, _form_data=None)"
            ]
          },
          "metadata": {},
          "execution_count": 21
        }
      ]
    },
    {
      "cell_type": "markdown",
      "source": [
        "---------"
      ],
      "metadata": {
        "id": "M3mOQUeE98rc"
      }
    },
    {
      "cell_type": "markdown",
      "source": [
        "Escribiendo las conclusiones del análisis:"
      ],
      "metadata": {
        "id": "OarAVFw59-UB"
      }
    },
    {
      "cell_type": "code",
      "source": [
        "# Conclusiones\n",
        "st.subheader('Con los datos analizados, podemos verificar que la mayoría de los empleados son mujeres y además, este sector es el que más horas labora.')\n",
        "st.subheader('Algo importante por mencionar es que la mayoría de empleados que trabajaron menos de 4,500 horas cuentan con una buena calificación (3).')\n",
        "st.subheader('Y para acabar con el análisis, la mayoría de los empleados tiene entre 30 y 50 años, junto con un salario de entre 50,000 y 70,000, donde los empleados más jóvenes (menor a 40) destacan por su salario en comparación con los demás.')"
      ],
      "metadata": {
        "colab": {
          "base_uri": "https://localhost:8080/"
        },
        "id": "swwMXwM59-eZ",
        "outputId": "5c9ddac5-f2c1-4267-8d6d-ebeb1761148a"
      },
      "execution_count": 22,
      "outputs": [
        {
          "output_type": "execute_result",
          "data": {
            "text/plain": [
              "DeltaGenerator(_root_container=0, _provided_cursor=None, _parent=None, _block_type=None, _form_data=None)"
            ]
          },
          "metadata": {},
          "execution_count": 22
        }
      ]
    }
  ]
}